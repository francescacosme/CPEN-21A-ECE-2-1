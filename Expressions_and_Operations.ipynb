{
  "nbformat": 4,
  "nbformat_minor": 0,
  "metadata": {
    "colab": {
      "name": "Expressions and Operations.ipynb",
      "provenance": [],
      "toc_visible": true,
      "authorship_tag": "ABX9TyOvu30fxfGmGReFi1ftSXHx",
      "include_colab_link": true
    },
    "kernelspec": {
      "name": "python3",
      "display_name": "Python 3"
    },
    "language_info": {
      "name": "python"
    }
  },
  "cells": [
    {
      "cell_type": "markdown",
      "metadata": {
        "id": "view-in-github",
        "colab_type": "text"
      },
      "source": [
        "<a href=\"https://colab.research.google.com/github/francescacosme/CPEN-21A-ECE-2-1/blob/main/Expressions_and_Operations.ipynb\" target=\"_parent\"><img src=\"https://colab.research.google.com/assets/colab-badge.svg\" alt=\"Open In Colab\"/></a>"
      ]
    },
    {
      "cell_type": "code",
      "metadata": {
        "colab": {
          "base_uri": "https://localhost:8080/"
        },
        "id": "ZEO_iFNrrJkI",
        "outputId": "957bb39f-d1ca-4b87-fad0-8a811e3a3a40"
      },
      "source": [
        "def myfunction():return True \n",
        "print(myfunction())\n",
        "False"
      ],
      "execution_count": 3,
      "outputs": [
        {
          "output_type": "stream",
          "name": "stdout",
          "text": [
            "True\n"
          ]
        },
        {
          "output_type": "execute_result",
          "data": {
            "text/plain": [
              "False"
            ]
          },
          "metadata": {},
          "execution_count": 3
        }
      ]
    },
    {
      "cell_type": "markdown",
      "metadata": {
        "id": "zAFAixIbr1wo"
      },
      "source": [
        "You try!"
      ]
    },
    {
      "cell_type": "code",
      "metadata": {
        "colab": {
          "base_uri": "https://localhost:8080/"
        },
        "id": "5BRUNlFLr4eH",
        "outputId": "19a6f594-2990-4d2a-f18e-c722746d1549"
      },
      "source": [
        "print(10>9)\n",
        "\n",
        "a=6\n",
        "b=7\n",
        "\n",
        "print(a==b)\n",
        "print(a!=a)"
      ],
      "execution_count": 4,
      "outputs": [
        {
          "output_type": "stream",
          "name": "stdout",
          "text": [
            "True\n",
            "False\n",
            "False\n"
          ]
        }
      ]
    },
    {
      "cell_type": "markdown",
      "metadata": {
        "id": "8yWc6e0gsFDi"
      },
      "source": [
        "Arithmetic Operators"
      ]
    },
    {
      "cell_type": "code",
      "metadata": {
        "colab": {
          "base_uri": "https://localhost:8080/"
        },
        "id": "DVddKPZ4sKI3",
        "outputId": "cfd49cf8-79d9-408d-8af4-36c03489a99b"
      },
      "source": [
        "print(10+5)\n",
        "print(10-5)\n",
        "print(10*5)\n",
        "print(10/5)\n",
        "print(10%5) #moodulo division, remainder\n",
        "print(10//5) #floor division\n",
        "print(10//3) #floor division\n",
        "print(10%3) #3 x 3 = 9 + 1\n"
      ],
      "execution_count": 8,
      "outputs": [
        {
          "output_type": "stream",
          "name": "stdout",
          "text": [
            "15\n",
            "5\n",
            "50\n",
            "2.0\n",
            "0\n",
            "2\n",
            "3\n",
            "1\n"
          ]
        }
      ]
    },
    {
      "cell_type": "markdown",
      "metadata": {
        "id": "YoqxtHiyuMmC"
      },
      "source": [
        "Bitwise Operator"
      ]
    },
    {
      "cell_type": "code",
      "metadata": {
        "id": "WnBcjfolwGDv",
        "outputId": "c82856ea-5613-417e-ddce-3202367a1ed9",
        "colab": {
          "base_uri": "https://localhost:8080/"
        }
      },
      "source": [
        "a=60 #0011 1100\n",
        "b=13 #0000 1101\n",
        "\n",
        "print(a&b)\n",
        "print(a|b)\n",
        "print(a^b)\n",
        "print(-a)\n",
        "print(a<<1) #0111 1000\n",
        "print(a<<2) #0111 1000\n",
        "print(b>>1) #1 0000 0110\n",
        "print(b>>2) #0000 0011 carry flag bit = 1"
      ],
      "execution_count": 7,
      "outputs": [
        {
          "output_type": "stream",
          "name": "stdout",
          "text": [
            "12\n",
            "61\n",
            "49\n",
            "-60\n",
            "120\n",
            "240\n",
            "6\n",
            "3\n"
          ]
        }
      ]
    },
    {
      "cell_type": "markdown",
      "metadata": {
        "id": "-FN6VBo7xFnx"
      },
      "source": [
        "Python Operators"
      ]
    },
    {
      "cell_type": "code",
      "metadata": {
        "id": "e0dUTbUHxIAI",
        "outputId": "4c4a6d2f-8dec-4def-9cc8-fcbfb3e74213",
        "colab": {
          "base_uri": "https://localhost:8080/"
        }
      },
      "source": [
        "a+=3 #Same as a= a+3 #Same as a= 60 + 3, a=63\n",
        "\n",
        "print(a)"
      ],
      "execution_count": 9,
      "outputs": [
        {
          "output_type": "stream",
          "name": "stdout",
          "text": [
            "63\n"
          ]
        }
      ]
    },
    {
      "cell_type": "markdown",
      "metadata": {
        "id": "wgFImjQ8xXSJ"
      },
      "source": [
        "Logical Operators"
      ]
    },
    {
      "cell_type": "code",
      "metadata": {
        "id": "ZZ2ffnwTxZwA",
        "outputId": "21714001-c29f-4789-c077-2ac3ef7f8901",
        "colab": {
          "base_uri": "https://localhost:8080/"
        }
      },
      "source": [
        "#and logical operator\n",
        "\n",
        "a=True\n",
        "b=False\n",
        "\n",
        "print(a and b)\n",
        "print(not(a and b))\n",
        "print(a or b)\n",
        "print(not a or b)"
      ],
      "execution_count": 10,
      "outputs": [
        {
          "output_type": "stream",
          "name": "stdout",
          "text": [
            "False\n",
            "True\n",
            "True\n",
            "False\n"
          ]
        }
      ]
    },
    {
      "cell_type": "code",
      "metadata": {
        "id": "QFIyAKmCxwQf",
        "outputId": "65fbda3f-7170-4109-9b02-e1af3921eba2",
        "colab": {
          "base_uri": "https://localhost:8080/"
        }
      },
      "source": [
        "a is b\n",
        "a is not b"
      ],
      "execution_count": 11,
      "outputs": [
        {
          "output_type": "execute_result",
          "data": {
            "text/plain": [
              "True"
            ]
          },
          "metadata": {},
          "execution_count": 11
        }
      ]
    }
  ]
}
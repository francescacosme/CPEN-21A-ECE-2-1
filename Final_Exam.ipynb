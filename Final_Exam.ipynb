{
  "nbformat": 4,
  "nbformat_minor": 0,
  "metadata": {
    "colab": {
      "name": "Final Exam.ipynb",
      "provenance": [],
      "authorship_tag": "ABX9TyNSwRFuaqQLM6UC/+p29iMe",
      "include_colab_link": true
    },
    "kernelspec": {
      "name": "python3",
      "display_name": "Python 3"
    },
    "language_info": {
      "name": "python"
    }
  },
  "cells": [
    {
      "cell_type": "markdown",
      "metadata": {
        "id": "view-in-github",
        "colab_type": "text"
      },
      "source": [
        "<a href=\"https://colab.research.google.com/github/francescacosme/CPEN-21A-ECE-2-1/blob/main/Final_Exam.ipynb\" target=\"_parent\"><img src=\"https://colab.research.google.com/assets/colab-badge.svg\" alt=\"Open In Colab\"/></a>"
      ]
    },
    {
      "cell_type": "code",
      "execution_count": 2,
      "metadata": {
        "colab": {
          "base_uri": "https://localhost:8080/"
        },
        "id": "bkkmGvbc493I",
        "outputId": "693c5127-c057-48fc-c3f4-dbadfc9d5c48"
      },
      "outputs": [
        {
          "output_type": "stream",
          "name": "stdout",
          "text": [
            "[1]Enter a number less than 5: \n",
            "4\n",
            "[2]Enter a number less than 5: \n",
            "4\n",
            "[3]Enter a number less than 5: \n",
            "4\n",
            "[4]Enter a number less than 5: \n",
            "4\n",
            "[5]Enter a number less than 5: \n",
            "4\n",
            "[6]Enter a number less than 5: \n",
            "4\n",
            "[7]Enter a number less than 5: \n",
            "4\n",
            "[8]Enter a number less than 5: \n",
            "4\n",
            "[9]Enter a number less than 5: \n",
            "4\n",
            "[10]Enter a number less than 5: \n",
            "4\n",
            "Summation: 40\n"
          ]
        }
      ],
      "source": [
        "summation = 0\n",
        "index = 0\n",
        "temp = 0\n",
        "\n",
        "while index < 10:\n",
        "    print(\"[\" + str(index + 1) + \"]Enter a number less than 5: \")\n",
        "    temp = input()\n",
        "\n",
        "    if int(temp) < 5:\n",
        "        summation += int(temp)\n",
        "        index += 1\n",
        "\n",
        "print(\"Summation: \" + str(summation))"
      ]
    },
    {
      "cell_type": "code",
      "source": [
        "num=1;\n",
        "data={};\n",
        "while(num <=5):\n",
        "  i = str(num);\n",
        "  data[num] = input(\"Enter Number:\")\n",
        "  print(\"Value for Number \"+ i +\" is \"+ data[num])\n",
        "  num+=1\n",
        "  if(num==6):\n",
        "    sum=float(data[1])+float(data[5])\n",
        "print(\"The sum of the first and last number is: \" + str(sum))"
      ],
      "metadata": {
        "colab": {
          "base_uri": "https://localhost:8080/"
        },
        "id": "jMP6TSUe5RT-",
        "outputId": "ddd280dc-7e8a-4f25-e7f1-957f019510b4"
      },
      "execution_count": 3,
      "outputs": [
        {
          "output_type": "stream",
          "name": "stdout",
          "text": [
            "Enter Number:5\n",
            "Value for Number 1 is 5\n",
            "Enter Number:4\n",
            "Value for Number 2 is 4\n",
            "Enter Number:3\n",
            "Value for Number 3 is 3\n",
            "Enter Number:2\n",
            "Value for Number 4 is 2\n",
            "Enter Number:1\n",
            "Value for Number 5 is 1\n",
            "The sum of the first and last number is: 6.0\n"
          ]
        }
      ]
    },
    {
      "cell_type": "code",
      "source": [
        "grade=float(input(\"Enter your Grade:\"))\n",
        "if grade >=90: print(\"A\")\n",
        "else:\n",
        "  if grade >=80: print(\"B\")\n",
        "  elif grade >=70: print(\"C\")\n",
        "  elif grade >=60: print(\"D\")\n",
        "  else: print(\"F\")"
      ],
      "metadata": {
        "colab": {
          "base_uri": "https://localhost:8080/"
        },
        "id": "zSPi1tH65cN6",
        "outputId": "da882e99-e5d9-4fde-b81a-444f4ad96a02"
      },
      "execution_count": 4,
      "outputs": [
        {
          "output_type": "stream",
          "name": "stdout",
          "text": [
            "Enter your Grade:90\n",
            "A\n"
          ]
        }
      ]
    }
  ]
}
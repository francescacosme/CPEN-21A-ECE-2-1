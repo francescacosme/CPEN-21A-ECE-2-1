{
  "nbformat": 4,
  "nbformat_minor": 0,
  "metadata": {
    "colab": {
      "name": "Midterm Exam.ipynb",
      "provenance": [],
      "authorship_tag": "ABX9TyNX/8l3bxomrRf3NfZoXPYQ",
      "include_colab_link": true
    },
    "kernelspec": {
      "name": "python3",
      "display_name": "Python 3"
    },
    "language_info": {
      "name": "python"
    }
  },
  "cells": [
    {
      "cell_type": "markdown",
      "metadata": {
        "id": "view-in-github",
        "colab_type": "text"
      },
      "source": [
        "<a href=\"https://colab.research.google.com/github/francescacosme/CPEN-21A-ECE-2-1/blob/main/Midterm_Exam.ipynb\" target=\"_parent\"><img src=\"https://colab.research.google.com/assets/colab-badge.svg\" alt=\"Open In Colab\"/></a>"
      ]
    },
    {
      "cell_type": "markdown",
      "metadata": {
        "id": "YbDgGeTL_5SD"
      },
      "source": [
        "Problem Statement No. 1"
      ]
    },
    {
      "cell_type": "code",
      "metadata": {
        "colab": {
          "base_uri": "https://localhost:8080/"
        },
        "id": "3x-x5c9N21cV",
        "outputId": "5e353a50-68c7-4b56-97bf-75226bc97f5b"
      },
      "source": [
        "print (\"Welcome to Python Programming\")\n",
        "print (\"Full Name: Maria Francesca Raymundo Cosme\")\n",
        "print (\"Student Number: 202012226\")\n",
        "print (\"Age: 20 Years Old\")\n",
        "print (\"Birthday: August 17,2001\")\n",
        "print (\"Address: Purok 50 Able Site Iruhin West, Tagaytay City, Cavite\")\n",
        "print (\"Course: Bachelor of Science in Electronics Communication Engineering\")\n",
        "print (\"Last Sem GWA: 1.83\")"
      ],
      "execution_count": 3,
      "outputs": [
        {
          "output_type": "stream",
          "name": "stdout",
          "text": [
            "Welcome to Python Programming\n",
            "Full Name: Maria Francesca Raymundo Cosme\n",
            "Student Number: 202012226\n",
            "Age: 20 Years Old\n",
            "Birthday: August 17,2001\n",
            "Address: Purok 50 Able Site Iruhin West, Tagaytay City, Cavite\n",
            "Course: Bachelor of Science in Electronics Communication Engineering\n",
            "Last Sem GWA: 1.83\n"
          ]
        }
      ]
    },
    {
      "cell_type": "markdown",
      "metadata": {
        "id": "4I6O9vrA_iYe"
      },
      "source": [
        "Problem Statement no. 2"
      ]
    },
    {
      "cell_type": "code",
      "metadata": {
        "colab": {
          "base_uri": "https://localhost:8080/"
        },
        "id": "H1lXcXOe_m_g",
        "outputId": "45ef3600-bb7b-4065-eb1b-2304c59cd030"
      },
      "source": [
        "n=4\n",
        "answ=\"Y\"\n",
        "\n",
        "print(bool(2<n) and (n<6)) \n",
        "print(bool(2<n) and (n==6))\n",
        "print(bool(not(2<n)or(n==6)))\n",
        "print(bool(not(n<6)))\n",
        "print(bool(answ==\"Y\")or(answ==\"y\"))\n",
        "print(bool(answ==\"Y\")and(answ==\"y\"))\n",
        "print(bool(not(answ==\"y\")))\n",
        "print(bool(2<n)and(n==5+1))or(answ==\"No\")\n",
        "print(bool(n==2))and(n==7)or(answ==\"Y\")\n",
        "print(bool(n==2))and((n==7)or(answ==\"Y\"))"
      ],
      "execution_count": 18,
      "outputs": [
        {
          "output_type": "stream",
          "name": "stdout",
          "text": [
            "True\n",
            "False\n",
            "False\n",
            "False\n",
            "True\n",
            "False\n",
            "True\n",
            "False\n",
            "False\n",
            "False\n"
          ]
        }
      ]
    },
    {
      "cell_type": "markdown",
      "metadata": {
        "id": "FhxRQw1J_2L9"
      },
      "source": [
        "Problem Statement No. 3"
      ]
    },
    {
      "cell_type": "code",
      "metadata": {
        "colab": {
          "base_uri": "https://localhost:8080/"
        },
        "id": "VDcVkAVoAKW0",
        "outputId": "1103d482-ef14-4d91-f0d6-e324da685a54"
      },
      "source": [
        "x=2\n",
        "y=-3\n",
        "w=7\n",
        "z=-10\n",
        "\n",
        "print (x/y)\n",
        "print (w/y/x)\n",
        "print (z/y%x)\n",
        "print (x%-y*w)\n",
        "print (x%y)\n",
        "print (z%w-y/x*5+5)\n",
        "print (9-x%(2+y))\n",
        "print (z//w)\n",
        "print ((2+y)**2)\n",
        "print (w/x*2)"
      ],
      "execution_count": 19,
      "outputs": [
        {
          "output_type": "stream",
          "name": "stdout",
          "text": [
            "-0.6666666666666666\n",
            "-1.1666666666666667\n",
            "1.3333333333333335\n",
            "14\n",
            "-1\n",
            "16.5\n",
            "9\n",
            "-2\n",
            "1\n",
            "7.0\n"
          ]
        }
      ]
    }
  ]
}
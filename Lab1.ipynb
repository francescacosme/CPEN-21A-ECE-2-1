{
  "nbformat": 4,
  "nbformat_minor": 0,
  "metadata": {
    "colab": {
      "name": "Lab1.ipynb",
      "provenance": [],
      "authorship_tag": "ABX9TyPHp/3xjb3FHsQRQw7bP/bZ",
      "include_colab_link": true
    },
    "kernelspec": {
      "name": "python3",
      "display_name": "Python 3"
    },
    "language_info": {
      "name": "python"
    }
  },
  "cells": [
    {
      "cell_type": "markdown",
      "metadata": {
        "id": "view-in-github",
        "colab_type": "text"
      },
      "source": [
        "<a href=\"https://colab.research.google.com/github/francescacosme/CPEN-21A-ECE-2-1/blob/main/Lab1.ipynb\" target=\"_parent\"><img src=\"https://colab.research.google.com/assets/colab-badge.svg\" alt=\"Open In Colab\"/></a>"
      ]
    },
    {
      "cell_type": "code",
      "metadata": {
        "colab": {
          "base_uri": "https://localhost:8080/"
        },
        "id": "ygbs5_1tydZR",
        "outputId": "aea74dab-ea1f-4fa7-f089-03b35e1d7bbc"
      },
      "source": [
        "print (\"Welcome to Phyton Programming\")\n",
        "print (\"Name: Maria Francesca Cosme\")\n",
        "print (\"Adress: Purok 50 Able Site, Iruhin West Tagaytay City Cavite \")\n",
        "print (\"Age: 20 years old\")\n"
      ],
      "execution_count": 3,
      "outputs": [
        {
          "output_type": "stream",
          "name": "stdout",
          "text": [
            "Welcome to Phyton Programming\n",
            "Name: Maria Francesca Cosme\n",
            "Adress: Purok 50 Able Site, Iruhin West Tagaytay City Cavite \n",
            "Age: 20 years old\n"
          ]
        }
      ]
    }
  ]
}